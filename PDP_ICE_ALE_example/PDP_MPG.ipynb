{
 "cells": [
  {
   "cell_type": "markdown",
   "metadata": {},
   "source": [
    "# 학습된 MPG 예측 모델을 바탕으로 Parital Dependency plot을 그려보자"
   ]
  },
  {
   "cell_type": "code",
   "execution_count": 1,
   "metadata": {},
   "outputs": [
    {
     "name": "stdout",
     "output_type": "stream",
     "text": [
      "1.13.1\n"
     ]
    }
   ],
   "source": [
    "from __future__ import absolute_import, division, print_function, unicode_literals\n",
    "\n",
    "import pathlib\n",
    "\n",
    "import matplotlib.pyplot as plt\n",
    "import pandas as pd\n",
    "import seaborn as sns\n",
    "import numpy as np\n",
    "\n",
    "import tensorflow as tf\n",
    "from tensorflow import keras\n",
    "from tensorflow.keras import layers\n",
    "\n",
    "print(tf.__version__)"
   ]
  },
  {
   "cell_type": "markdown",
   "metadata": {},
   "source": [
    "## 학습 데이터 로딩"
   ]
  },
  {
   "cell_type": "code",
   "execution_count": 2,
   "metadata": {},
   "outputs": [
    {
     "data": {
      "text/html": [
       "<div>\n",
       "<style scoped>\n",
       "    .dataframe tbody tr th:only-of-type {\n",
       "        vertical-align: middle;\n",
       "    }\n",
       "\n",
       "    .dataframe tbody tr th {\n",
       "        vertical-align: top;\n",
       "    }\n",
       "\n",
       "    .dataframe thead th {\n",
       "        text-align: right;\n",
       "    }\n",
       "</style>\n",
       "<table border=\"1\" class=\"dataframe\">\n",
       "  <thead>\n",
       "    <tr style=\"text-align: right;\">\n",
       "      <th></th>\n",
       "      <th>Cylinders</th>\n",
       "      <th>Displacement</th>\n",
       "      <th>Horsepower</th>\n",
       "      <th>Weight</th>\n",
       "      <th>Acceleration</th>\n",
       "      <th>Model Year</th>\n",
       "      <th>USA</th>\n",
       "      <th>Europe</th>\n",
       "      <th>Japan</th>\n",
       "    </tr>\n",
       "  </thead>\n",
       "  <tbody>\n",
       "    <tr>\n",
       "      <th>146</th>\n",
       "      <td>-0.869348</td>\n",
       "      <td>-1.009459</td>\n",
       "      <td>-0.784052</td>\n",
       "      <td>-1.025303</td>\n",
       "      <td>-0.379759</td>\n",
       "      <td>-0.516397</td>\n",
       "      <td>0.774676</td>\n",
       "      <td>-0.465148</td>\n",
       "      <td>-0.495225</td>\n",
       "    </tr>\n",
       "    <tr>\n",
       "      <th>282</th>\n",
       "      <td>-0.869348</td>\n",
       "      <td>-0.530218</td>\n",
       "      <td>-0.442811</td>\n",
       "      <td>-0.118796</td>\n",
       "      <td>0.624102</td>\n",
       "      <td>0.843910</td>\n",
       "      <td>0.774676</td>\n",
       "      <td>-0.465148</td>\n",
       "      <td>-0.495225</td>\n",
       "    </tr>\n",
       "    <tr>\n",
       "      <th>69</th>\n",
       "      <td>1.483887</td>\n",
       "      <td>1.482595</td>\n",
       "      <td>1.447140</td>\n",
       "      <td>1.736877</td>\n",
       "      <td>-0.738281</td>\n",
       "      <td>-1.060519</td>\n",
       "      <td>0.774676</td>\n",
       "      <td>-0.465148</td>\n",
       "      <td>-0.495225</td>\n",
       "    </tr>\n",
       "    <tr>\n",
       "      <th>378</th>\n",
       "      <td>-0.869348</td>\n",
       "      <td>-0.865687</td>\n",
       "      <td>-1.099044</td>\n",
       "      <td>-1.025303</td>\n",
       "      <td>-0.308055</td>\n",
       "      <td>1.660094</td>\n",
       "      <td>0.774676</td>\n",
       "      <td>-0.465148</td>\n",
       "      <td>-0.495225</td>\n",
       "    </tr>\n",
       "    <tr>\n",
       "      <th>331</th>\n",
       "      <td>-0.869348</td>\n",
       "      <td>-0.942365</td>\n",
       "      <td>-0.994047</td>\n",
       "      <td>-1.001603</td>\n",
       "      <td>0.875068</td>\n",
       "      <td>1.115971</td>\n",
       "      <td>-1.286751</td>\n",
       "      <td>-0.465148</td>\n",
       "      <td>2.012852</td>\n",
       "    </tr>\n",
       "  </tbody>\n",
       "</table>\n",
       "</div>"
      ],
      "text/plain": [
       "     Cylinders  Displacement  Horsepower    Weight  Acceleration  Model Year  \\\n",
       "146  -0.869348     -1.009459   -0.784052 -1.025303     -0.379759   -0.516397   \n",
       "282  -0.869348     -0.530218   -0.442811 -0.118796      0.624102    0.843910   \n",
       "69    1.483887      1.482595    1.447140  1.736877     -0.738281   -1.060519   \n",
       "378  -0.869348     -0.865687   -1.099044 -1.025303     -0.308055    1.660094   \n",
       "331  -0.869348     -0.942365   -0.994047 -1.001603      0.875068    1.115971   \n",
       "\n",
       "          USA    Europe     Japan  \n",
       "146  0.774676 -0.465148 -0.495225  \n",
       "282  0.774676 -0.465148 -0.495225  \n",
       "69   0.774676 -0.465148 -0.495225  \n",
       "378  0.774676 -0.465148 -0.495225  \n",
       "331 -1.286751 -0.465148  2.012852  "
      ]
     },
     "execution_count": 2,
     "metadata": {},
     "output_type": "execute_result"
    }
   ],
   "source": [
    "normed_train_dataset = pd.read_pickle('train_dataset.pickle')\n",
    "train_labels = pd.read_pickle('train_labels.pickle')\n",
    "normed_train_dataset.head()"
   ]
  },
  {
   "cell_type": "markdown",
   "metadata": {},
   "source": [
    "## 모델 로딩"
   ]
  },
  {
   "cell_type": "code",
   "execution_count": 3,
   "metadata": {},
   "outputs": [
    {
     "name": "stdout",
     "output_type": "stream",
     "text": [
      "WARNING:tensorflow:From /Users/seonghoonjung/anaconda3/envs/ai/lib/python3.6/site-packages/tensorflow/python/ops/resource_variable_ops.py:435: colocate_with (from tensorflow.python.framework.ops) is deprecated and will be removed in a future version.\n",
      "Instructions for updating:\n",
      "Colocations handled automatically by placer.\n",
      "WARNING:tensorflow:From /Users/seonghoonjung/anaconda3/envs/ai/lib/python3.6/site-packages/tensorflow/python/keras/utils/losses_utils.py:170: to_float (from tensorflow.python.ops.math_ops) is deprecated and will be removed in a future version.\n",
      "Instructions for updating:\n",
      "Use tf.cast instead.\n",
      "WARNING:tensorflow:From /Users/seonghoonjung/anaconda3/envs/ai/lib/python3.6/site-packages/tensorflow/python/ops/math_ops.py:3066: to_int32 (from tensorflow.python.ops.math_ops) is deprecated and will be removed in a future version.\n",
      "Instructions for updating:\n",
      "Use tf.cast instead.\n",
      "_________________________________________________________________\n",
      "Layer (type)                 Output Shape              Param #   \n",
      "=================================================================\n",
      "dense (Dense)                (None, 64)                640       \n",
      "_________________________________________________________________\n",
      "dense_1 (Dense)              (None, 64)                4160      \n",
      "_________________________________________________________________\n",
      "dense_2 (Dense)              (None, 1)                 65        \n",
      "=================================================================\n",
      "Total params: 4,865\n",
      "Trainable params: 4,865\n",
      "Non-trainable params: 0\n",
      "_________________________________________________________________\n"
     ]
    }
   ],
   "source": [
    "model = keras.models.load_model('auto-mpg.h5')\n",
    "model.summary()"
   ]
  },
  {
   "cell_type": "markdown",
   "metadata": {},
   "source": [
    "## Partial Dependence Plot (PDP)"
   ]
  },
  {
   "cell_type": "code",
   "execution_count": 99,
   "metadata": {},
   "outputs": [
    {
     "data": {
      "image/png": "[encoded data removed]",
      "text/plain": [
       "<Figure size 576x288 with 1 Axes>"
      ]
     },
     "metadata": {},
     "output_type": "display_data"
    }
   ],
   "source": [
    "def make_intervals(min_val, max_val, n_interval):\n",
    "    step = (max_val - min_val) / n_interval\n",
    "    intervals = [ (min_val+i*step, min_val+(i+1)*step) for i in range(n_interval)]\n",
    "    return intervals\n",
    "\n",
    "def partial_dependency_plot(feature_name, n_interval, features):\n",
    "    stats = features[feature_name].describe()\n",
    "    intervals = make_intervals(stats['min'], stats['max'], n_interval)\n",
    "    \n",
    "    # for each use of lower bound in intervals, \n",
    "    x_ = [ lower for lower, upper in intervals ]\n",
    "    y_ = []\n",
    "    for lower, upper in intervals:\n",
    "        \n",
    "        # make artificial features with replacing feature value with lower bound value\n",
    "        artificial_features = features.copy()\n",
    "        artificial_features[feature_name] = lower\n",
    "        \n",
    "        # make predictions over artifically created features\n",
    "        predictions = model.predict(artificial_features).flatten()\n",
    "        avg_prediction = np.average(predictions)\n",
    "        y_.append(avg_prediction)\n",
    "    \n",
    "    fig, ax = plt.subplots(figsize=(8,4))\n",
    "    \n",
    "    # draw curve for avg prediction\n",
    "    ax.plot(x_, y_, '-o')\n",
    "    \n",
    "    # draw original feature distribution as rugged plot\n",
    "    ax.plot(features[feature_name], [min(y_)-1]*len(features), '|', color='k')\n",
    "\n",
    "    plt.ylim(min(y_)-2, max(y_)+2)\n",
    "    plt.show()\n",
    "\n",
    "partial_dependency_plot('Horsepower', 20, normed_train_dataset)"
   ]
  },
  {
   "cell_type": "markdown",
   "metadata": {},
   "source": [
    "## Individual Conditional Expectation (ICE) Plot"
   ]
  },
  {
   "cell_type": "code",
   "execution_count": 112,
   "metadata": {},
   "outputs": [
    {
     "name": "stdout",
     "output_type": "stream",
     "text": [
      "number of samples to be drawn is 31\n"
     ]
    },
    {
     "data": {
      "image/png": "[encoded data removed]",
      "text/plain": [
       "<Figure size 576x288 with 1 Axes>"
      ]
     },
     "metadata": {},
     "output_type": "display_data"
    }
   ],
   "source": [
    "import math\n",
    "pd.options.mode.chained_assignment = None\n",
    "\n",
    "def individual_conditional_expectation_plot(feature_name, n_interval, features, sample_ratio, is_centered=False):\n",
    "    \n",
    "    assert sample_ratio < 1.0, 'sample ratio should be less than 1.0'\n",
    "\n",
    "    \n",
    "    # make intervals\n",
    "    stats = features[feature_name].describe()\n",
    "    intervals = make_intervals(stats['min'], stats['max'], n_interval)\n",
    "    \n",
    "    # initialize plot\n",
    "    fig, ax = plt.subplots(figsize=(8,4))\n",
    "\n",
    "    # draw sample\n",
    "    samples = features.sample(math.floor(len(features)*sample_ratio))\n",
    "    print(f'number of samples to be drawn is {len(samples)}')\n",
    "    \n",
    "    # feature domain values would be list of lower of interval\n",
    "    x_ = [ lower for lower, upper in intervals ]\n",
    "    y_ = []\n",
    "    for i in range(len(samples)):\n",
    "        y_i = []\n",
    "        \n",
    "        # make dataset in which a row was duplicated over the length of feature domain values\n",
    "        indices = np.array([i]).repeat(len(x_))\n",
    "        dup_features = samples.iloc[indices]\n",
    "        \n",
    "        # replace each of row by given feature domain values\n",
    "        dup_features[feature_name] = x_\n",
    "        \n",
    "        # make predictions over artifically created features\n",
    "        predictions = model.predict(dup_features)\n",
    "        \n",
    "        # centering to first element in y\n",
    "        if is_centered:\n",
    "            y = np.squeeze(np.array(predictions))\n",
    "            predictions = y[:] - y[0]\n",
    "            predictions = predictions.tolist()\n",
    "        \n",
    "        y_i.extend(predictions)\n",
    "        y_.append(y_i)\n",
    "        \n",
    "        # draw curve for avg prediction\n",
    "        ax.plot(x_, y_i, '-', c='b', linewidth=0.2)\n",
    "    \n",
    "    \n",
    "    # make average curve over all curves, and draw it\n",
    "    all_curves = np.squeeze(np.array(y_))\n",
    "    avg_curve = np.average(all_curves, axis=0)\n",
    "    ax.plot(x_, avg_curve, '-', c='r', linewidth=3)\n",
    "    \n",
    "    # find minimum of y for drawing rugplot properly\n",
    "    y_min = np.asscalar(np.min(all_curves))\n",
    "    y_max = np.asscalar(np.max(all_curves))\n",
    "\n",
    "    # draw original feature distribution as rugged plot\n",
    "    ax.plot(features[feature_name], [y_min-1]*len(features), '|', color='k')\n",
    "    plt.ylim(y_min-2, y_max+2)\n",
    "    plt.show()\n",
    "\n",
    "individual_conditional_expectation_plot('Horsepower', 20, normed_train_dataset, 0.1, is_centered=True)"
   ]
  },
  {
   "cell_type": "markdown",
   "metadata": {},
   "source": [
    "## Marginal Plot"
   ]
  },
  {
   "cell_type": "code",
   "execution_count": 113,
   "metadata": {},
   "outputs": [
    {
     "data": {
      "image/png": "[encoded data removed]",
      "text/plain": [
       "<Figure size 576x288 with 1 Axes>"
      ]
     },
     "metadata": {},
     "output_type": "display_data"
    }
   ],
   "source": [
    "def marginal_plot(feature_name, n_interval, features):\n",
    "    stats = features[feature_name].describe()\n",
    "    intervals = make_intervals(stats['min'], stats['max'], n_interval)\n",
    "    \n",
    "    x_ = [ (lower+upper)/2 for lower, upper in intervals ]\n",
    "    \n",
    "    # for each use of lower bound in intervals, \n",
    "    y_ = []\n",
    "    for lower, upper in intervals:\n",
    "        \n",
    "        # select data points within interval\n",
    "        within_features = features[ (features[feature_name] >= lower) & (features[feature_name] < upper) ]\n",
    "        \n",
    "        # if there's none of data points in interval, just use previous one\n",
    "        if len(within_features) == 0:\n",
    "            avg_prediction = y_[-1]\n",
    "        else:\n",
    "            # make predictions over artifically created features\n",
    "            predictions = model.predict(within_features)\n",
    "            avg_prediction = np.average(predictions)\n",
    "        y_.append(avg_prediction)\n",
    "    \n",
    "    fig, ax = plt.subplots(figsize=(8,4))\n",
    "    \n",
    "    # draw curve for avg prediction\n",
    "    ax.plot(x_, y_, '-o')\n",
    "    \n",
    "    # draw original feature distribution as rugged plot\n",
    "    ax.plot(features[feature_name], [min(y_)-1]*len(features), '|', color='k')\n",
    "\n",
    "    plt.ylim(min(y_)-2, max(y_)+2)\n",
    "    plt.show()\n",
    "\n",
    "marginal_plot('Horsepower', 20, normed_train_dataset)"
   ]
  },
  {
   "cell_type": "markdown",
   "metadata": {},
   "source": [
    "## Accumulated Local Effects (ALE) Plot"
   ]
  },
  {
   "cell_type": "code",
   "execution_count": 114,
   "metadata": {},
   "outputs": [
    {
     "data": {
      "image/png": "[encoded data removed]",
      "text/plain": [
       "<Figure size 576x288 with 1 Axes>"
      ]
     },
     "metadata": {},
     "output_type": "display_data"
    }
   ],
   "source": [
    "def accumulated_local_effect_plot(feature_name, n_interval, features):\n",
    "    stats = features[feature_name].describe()\n",
    "    intervals = make_intervals(stats['min'], stats['max'], n_interval)\n",
    "    \n",
    "    x_ = [ (lower+upper)/2 for lower, upper in intervals ]\n",
    "    \n",
    "    # for each use of lower bound in intervals, \n",
    "    y_ = []\n",
    "    for lower, upper in intervals:\n",
    "        \n",
    "        # select data points within interval\n",
    "        within_features = features[ (features[feature_name] >= lower) & (features[feature_name] < upper) ]\n",
    "        \n",
    "\n",
    "        \n",
    "        # if there's none of data points in interval, just use previous one\n",
    "        if len(within_features) == 0:\n",
    "            avg_prediction = y_[-1]\n",
    "        else:\n",
    "            \n",
    "            def project_and_predict_avg(features, feature_name, projected_value):\n",
    "                # project onto the value \n",
    "                projected_features = features.copy()\n",
    "                projected_features[feature_name] = projected_value\n",
    "                \n",
    "                # make predictions over artifically created features\n",
    "                predictions = model.predict(projected_features)\n",
    "                return np.average(predictions)\n",
    "            \n",
    "            lower_avg_prediction = project_and_predict_avg(within_features, feature_name, lower)\n",
    "            upper_avg_prediction = project_and_predict_avg(within_features, feature_name, upper)\n",
    "            avg_prediction = upper_avg_prediction - lower_avg_prediction\n",
    "        \n",
    "        y_.append(avg_prediction)\n",
    "    \n",
    "    fig, ax = plt.subplots(figsize=(8,4))\n",
    "    \n",
    "    # draw curve for avg prediction\n",
    "    ax.plot(x_, y_, '-o')\n",
    "    \n",
    "    # draw original feature distribution as rugged plot\n",
    "    ax.plot(features[feature_name], [min(y_)-1]*len(features), '|', color='k')\n",
    "\n",
    "    plt.ylim(min(y_)-2, max(y_)+2)\n",
    "    plt.show()\n",
    "\n",
    "accumulated_local_effect_plot('Horsepower', 20, normed_train_dataset)"
   ]
  }
 ],
 "metadata": {
  "kernelspec": {
   "display_name": "Python 3",
   "language": "python",
   "name": "python3"
  },
  "language_info": {
   "codemirror_mode": {
    "name": "ipython",
    "version": 3
   },
   "file_extension": ".py",
   "mimetype": "text/x-python",
   "name": "python",
   "nbconvert_exporter": "python",
   "pygments_lexer": "ipython3",
   "version": "3.6.6"
  }
 },
 "nbformat": 4,
 "nbformat_minor": 2
}
