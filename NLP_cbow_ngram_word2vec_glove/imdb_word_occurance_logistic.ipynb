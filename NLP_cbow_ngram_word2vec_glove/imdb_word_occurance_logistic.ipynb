{
 "cells": [
  {
   "cell_type": "markdown",
   "metadata": {},
   "source": [
    "# 다음 tutorial을 참고해서 IMDB 무비 리뷰 \n",
    "\n",
    "* https://towardsdatascience.com/sentiment-analysis-with-python-part-1-5ce197074184"
   ]
  },
  {
   "cell_type": "markdown",
   "metadata": {},
   "source": [
    "## 데이터 읽기"
   ]
  },
  {
   "cell_type": "code",
   "execution_count": 1,
   "metadata": {},
   "outputs": [
    {
     "data": {
      "text/plain": [
       "'Bromwell High is a cartoon comedy. It ran at the same time as some other programs about school life, such as \"Teachers\". My 35 years in the teaching profession lead me to believe that Bromwell High\\'s satire is much closer to reality than is \"Teachers\". The scramble to survive financially, the insightful students who can see right through their pathetic teachers\\' pomp, the pettiness of the whole situation, all remind me of the schools I knew and their students. When I saw the episode in which a student repeatedly tried to burn down the school, I immediately recalled ......... at .......... High. A classic line: INSPECTOR: I\\'m here to sack one of your teachers. STUDENT: Welcome to Bromwell High. I expect that many adults of my age think that Bromwell High is far fetched. What a pity that it isn\\'t!'"
      ]
     },
     "execution_count": 1,
     "metadata": {},
     "output_type": "execute_result"
    }
   ],
   "source": [
    "review_trains = []\n",
    "review_tests = []\n",
    "for line in open('./movie_data/full_train.txt', 'r'):\n",
    "    review_trains.append(line.strip())\n",
    "for line in open('./movie_data/full_test.txt', 'r'):\n",
    "    review_tests.append(line.strip())\n",
    "review_trains[0]"
   ]
  },
  {
   "cell_type": "markdown",
   "metadata": {},
   "source": [
    "## 데이터 전처리"
   ]
  },
  {
   "cell_type": "markdown",
   "metadata": {},
   "source": [
    "#### clutter token 제거 "
   ]
  },
  {
   "cell_type": "code",
   "execution_count": 2,
   "metadata": {},
   "outputs": [
    {
     "data": {
      "text/plain": [
       "'bromwell high is a cartoon comedy it ran at the same time as some other programs about school life such as teachers my 35 years in the teaching profession lead me to believe that bromwell highs satire is much closer to reality than is teachers the scramble to survive financially the insightful students who can see right through their pathetic teachers pomp the pettiness of the whole situation all remind me of the schools i knew and their students when i saw the episode in which a student repeatedly tried to burn down the school i immediately recalled  at  high a classic line inspector im here to sack one of your teachers student welcome to bromwell high i expect that many adults of my age think that bromwell high is far fetched what a pity that it isnt'"
      ]
     },
     "execution_count": 2,
     "metadata": {},
     "output_type": "execute_result"
    }
   ],
   "source": [
    "import re\n",
    "\n",
    "REPLACE_NO_SPACE = re.compile(\"[.;:!\\'?,\\\"()\\[\\]]\")\n",
    "REPLACE_WITH_SPACE = re.compile(\"(<br\\s*/><br\\s*/>)|(\\-)|(\\/)\")\n",
    "\n",
    "def preprocess_reviews(reviews):\n",
    "    reviews = [REPLACE_NO_SPACE.sub(\"\", line.lower()) for line in reviews]\n",
    "    reviews = [REPLACE_WITH_SPACE.sub(\" \", line) for line in reviews]\n",
    "    return reviews\n",
    "\n",
    "review_trains_clean = preprocess_reviews(review_trains)    \n",
    "review_tests_clean = preprocess_reviews(review_tests)\n",
    "review_trains_clean[0]    "
   ]
  },
  {
   "cell_type": "markdown",
   "metadata": {},
   "source": [
    "## Naive Vectorization : One-hot encoding 기반\n",
    "* 각 voca가 해당 review에 등장하면 1, 아니면 0 \n",
    "* sklearn의 [CountVectorizer](https://scikit-learn.org/stable/modules/generated/sklearn.feature_extraction.text.CountVectorizer.html) 사용 "
   ]
  },
  {
   "cell_type": "code",
   "execution_count": 3,
   "metadata": {},
   "outputs": [],
   "source": [
    "from sklearn.feature_extraction.text import CountVectorizer\n",
    "\n",
    "cv = CountVectorizer(binary=True, max_features=1000)  # count가 아닌 occurance or not이 feature\n",
    "cv.fit(review_trains)\n",
    "train_features = cv.transform(review_trains_clean)\n",
    "test_features = cv.transform(review_tests_clean)"
   ]
  },
  {
   "cell_type": "code",
   "execution_count": 4,
   "metadata": {},
   "outputs": [
    {
     "name": "stdout",
     "output_type": "stream",
     "text": [
      "voca size=1000\n",
      "some voca=['10', '20', '30', 'able', 'about', 'above', 'absolutely', 'across', 'act', 'acted']\n",
      "[[0 0 0 ... 0 1 0]\n",
      " [0 0 0 ... 1 0 0]\n",
      " [0 0 0 ... 0 0 0]\n",
      " ...\n",
      " [0 0 0 ... 0 0 0]\n",
      " [0 0 0 ... 0 0 0]\n",
      " [0 0 0 ... 0 1 0]]\n"
     ]
    }
   ],
   "source": [
    "print(f'voca size={len(cv.get_feature_names())}')\n",
    "print(f'some voca={cv.get_feature_names()[:10]}')\n",
    "print(train_features.toarray())"
   ]
  },
  {
   "cell_type": "markdown",
   "metadata": {},
   "source": [
    "## 분류 모델 : Basline - LogisticRegression"
   ]
  },
  {
   "cell_type": "code",
   "execution_count": 5,
   "metadata": {},
   "outputs": [
    {
     "name": "stdout",
     "output_type": "stream",
     "text": [
      "Accuracy for C=0.01: 0.8504\n",
      "Accuracy for C=0.05: 0.85248\n",
      "Accuracy for C=0.25: 0.85424\n",
      "Accuracy for C=0.5: 0.85424\n",
      "Accuracy for C=1: 0.85488\n"
     ]
    }
   ],
   "source": [
    "from sklearn.model_selection import train_test_split\n",
    "from sklearn.linear_model import LogisticRegression\n",
    "from sklearn.metrics import accuracy_score\n",
    "\n",
    "# label 생성 - 초반 절반은 1, 나머지는 0\n",
    "labels = [1 if i < 12500 else 0 for i in range(25000)]  \n",
    "\n",
    "# train/validation set 분리\n",
    "X_train, X_val, y_train, y_val = train_test_split(train_features, labels, test_size=0.25, shuffle=True)\n",
    "\n",
    "# Logistic regression으로 학습 (다양한 regularizer, small value mean strong regularization)\n",
    "for c in [0.01, 0.05, 0.25, 0.5, 1]:\n",
    "    lr = LogisticRegression(C=c)\n",
    "    lr.fit(X_train, y_train)\n",
    "    print (\"Accuracy for C=%s: %s\" \n",
    "           % (c, accuracy_score(y_val, lr.predict(X_val))))"
   ]
  },
  {
   "cell_type": "code",
   "execution_count": 6,
   "metadata": {},
   "outputs": [
    {
     "name": "stdout",
     "output_type": "stream",
     "text": [
      "Accuracy = 0.85248\n"
     ]
    },
    {
     "data": {
      "text/plain": [
       "(1000,)"
      ]
     },
     "execution_count": 6,
     "metadata": {},
     "output_type": "execute_result"
    }
   ],
   "source": [
    "# 최종 모델은 위에서 C=0.05 일 때를 사용\n",
    "final_model = LogisticRegression(C=0.05)\n",
    "final_model.fit(X_train, y_train)\n",
    "print (\"Accuracy = %s\" % (accuracy_score(y_val, final_model.predict(X_val))))\n",
    "final_model.coef_[0].shape"
   ]
  },
  {
   "cell_type": "markdown",
   "metadata": {},
   "source": [
    "## XAI\n",
    "\n",
    "* most influential words(features) for determining pos/neg"
   ]
  },
  {
   "cell_type": "code",
   "execution_count": 7,
   "metadata": {},
   "outputs": [
    {
     "name": "stdout",
     "output_type": "stream",
     "text": [
      "most influential words for positive sentiments\n",
      "[('excellent', 0.9543561684231702), ('perfect', 0.8278048997368097), ('amazing', 0.7256422481993934), ('great', 0.7255364414231789), ('superb', 0.7085847209845163)]\n",
      "most influential words for negative sentiments\n",
      "[('worst', -1.440431511724494), ('waste', -1.220476693310591), ('awful', -1.2203809497503864), ('poorly', -0.9629888521971506), ('dull', -0.9112251330265803)]\n"
     ]
    }
   ],
   "source": [
    "feature_to_weight_map = {\n",
    "    word: weight for word, weight in zip(cv.get_feature_names(), final_model.coef_[0])\n",
    "}\n",
    "\n",
    "print('most influential words for positive sentiments')\n",
    "print(sorted(feature_to_weight_map.items(), key=lambda x:x[1], reverse=True)[:5])\n",
    "print('most influential words for negative sentiments')\n",
    "print(sorted(feature_to_weight_map.items(), key=lambda x:x[1], reverse=False)[:5])"
   ]
  }
 ],
 "metadata": {
  "kernelspec": {
   "display_name": "Python 3",
   "language": "python",
   "name": "python3"
  },
  "language_info": {
   "codemirror_mode": {
    "name": "ipython",
    "version": 3
   },
   "file_extension": ".py",
   "mimetype": "text/x-python",
   "name": "python",
   "nbconvert_exporter": "python",
   "pygments_lexer": "ipython3",
   "version": "3.6.6"
  }
 },
 "nbformat": 4,
 "nbformat_minor": 2
}
